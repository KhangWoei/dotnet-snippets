{
 "cells": [
  {
   "cell_type": "code",
   "execution_count": 1,
   "id": "8ff9c56a-64a6-4a8b-a1b2-9b1125e65ef2",
   "metadata": {},
   "outputs": [],
   "source": [
    "import requests;\n",
    "import pandas as pd;\n",
    "from io import BytesIO;"
   ]
  },
  {
   "cell_type": "markdown",
   "id": "30068fc9-a2e6-4481-81e1-56882986e1da",
   "metadata": {},
   "source": [
    "## Dataset Discovery"
   ]
  },
  {
   "cell_type": "code",
   "execution_count": 2,
   "id": "2ec8f3fc-2b64-470c-a377-1e8c87cae436",
   "metadata": {},
   "outputs": [],
   "source": [
    "response = requests.get(\"https://api.beta.ons.gov.uk/v1/datasets\");\n",
    "\n",
    "datasets = response.json().get(\"items\");"
   ]
  },
  {
   "cell_type": "code",
   "execution_count": 3,
   "id": "aaa94920-cd66-41be-9045-523240882673",
   "metadata": {},
   "outputs": [
    {
     "name": "stdout",
     "output_type": "stream",
     "text": [
      "dict_keys(['contacts', 'description', 'keywords', 'id', 'last_updated', 'links', 'methodologies', 'national_statistic', 'next_release', 'qmi', 'related_datasets', 'release_frequency', 'state', 'title', 'unit_of_measure'])\n"
     ]
    }
   ],
   "source": [
    "print(datasets[0].keys());"
   ]
  },
  {
   "cell_type": "code",
   "execution_count": 7,
   "id": "8c6ac11b-9773-4006-b4f5-d55c202c9e4a",
   "metadata": {},
   "outputs": [
    {
     "name": "stdout",
     "output_type": "stream",
     "text": [
      "wellbeing-quarterly, Quarterly personal well-being estimates, 2023-12-13T09:40:24.204Z, TBC, Quarterly\n",
      "wellbeing-local-authority, Personal well-being estimates by local authority, 2023-12-13T09:40:21.928Z, TBC, Annual\n",
      "weekly-deaths-region, Deaths registered weekly in England and Wales by region, 2025-08-13T09:32:31.24Z, 20 August 2025, Weekly\n",
      "weekly-deaths-local-authority, Death registrations and occurrences by local authority and place of death, 2024-01-09T10:10:57.755Z, 17 January 2024, Weekly\n",
      "weekly-deaths-health-board, Death registrations and occurrences by health board and place of death, 2024-01-09T10:11:08.441Z, 17 January 2024, Weekly\n",
      "weekly-deaths-age-sex, Deaths registered weekly in England and Wales by age and sex, 2025-08-13T09:32:27.636Z, 20 August 2025, Weekly\n",
      "uk-spending-on-cards, UK spending on credit and debit cards, 2024-05-16T09:00:13.637Z, To be announced, Weekly\n",
      "uk-business-by-enterprises-and-local-units, UK Business: Activity, Size and Location, 2022-11-03T09:50:09.932Z, To be announced, Annual\n",
      "traffic-camera-activity, Traffic Camera Activity, 2024-06-20T09:00:45.082Z, To be announced, Weekly\n",
      "trade, Trade in goods: country by commodity, 2025-07-14T07:17:43.403Z, 14 August 2025, Monthly\n",
      "tax-benefits-statistics, Effects of Taxes and Benefits on Household Income, 2022-09-16T06:15:01.401Z, TBA, Annual\n",
      "suicides-in-the-uk, Suicide registrations in England and Wales by local authority, 2024-09-05T12:10:34.352Z, To be announced, Annually\n",
      "sexual-orientation-by-region, Sexual orientation by English regions and UK countries, 2023-10-18T09:27:23.046Z, To be announced, Annual\n",
      "sexual-orientation-by-age-and-sex, Sexual orientation by age and sex, 2023-10-18T09:27:20.485Z, To be announced, Annual\n",
      "retail-sales-index-large-and-small-businesses, Retail sales index - large and small businesses, 2025-07-25T09:09:33.035Z, 23 May 2025, Monthly\n",
      "retail-sales-index-all-businesses, Retail sales index - all businesses, 2025-07-25T09:09:26.814Z, 23 May 2025, Monthly\n",
      "retail-sales-index, Retail sales index, 2025-07-25T09:09:30.332Z, 23 May 2025, Monthly\n",
      "regional-gdp-by-year, Annual GDP for England, Wales and the English regions, 2023-05-24T08:36:20.126Z, TBA, Annual\n",
      "regional-gdp-by-quarter, Quarterly GDP for England, Wales and the English regions, 2023-05-24T08:36:17.711Z, To be announced, To be announced\n",
      "projections-older-people-sex-ratios, Local authority ageing statistics, projected sex ratios for older people, 2020-11-02T11:02:21.237Z, To be announced, Biennial\n"
     ]
    }
   ],
   "source": [
    "for dataset in datasets:\n",
    "    datasetId = dataset.get(\"id\");\n",
    "    title = dataset.get(\"title\");\n",
    "    lastUpdated = dataset.get(\"last_updated\");\n",
    "    nextRelease = dataset.get(\"next_release\");\n",
    "    releaseFrequency = dataset.get(\"release_frequency\");\n",
    "\n",
    "    print(f'{datasetId:s}, {title:s}, {lastUpdated:s}, {nextRelease:s}, {releaseFrequency:s}');"
   ]
  },
  {
   "cell_type": "code",
   "execution_count": 7,
   "id": "91fa50d8-dee0-47bb-a11f-75d04f0e3a4a",
   "metadata": {},
   "outputs": [
    {
     "name": "stdout",
     "output_type": "stream",
     "text": [
      "{'alerts': [], 'collection_id': 'cmdtrade-284a77f416fe8409d6f3b92a1d8a72669ee97749bacd7221825f7faf33b41cb4', 'dimensions': [{'label': 'time', 'links': {'code_list': {}, 'options': {}, 'version': {}}, 'href': 'https://api.beta.ons.gov.uk/v1/code-lists/mmm-yy', 'id': 'mmm-yy', 'name': 'time'}, {'label': 'geography', 'links': {'code_list': {}, 'options': {}, 'version': {}}, 'href': 'https://api.beta.ons.gov.uk/v1/code-lists/uk-only', 'id': 'uk-only', 'name': 'geography'}, {'label': 'standardindustrialtradeclassification', 'links': {'code_list': {}, 'options': {}, 'version': {}}, 'href': 'https://api.beta.ons.gov.uk/v1/code-lists/sitc', 'id': 'sitc', 'name': 'standardindustrialtradeclassification'}, {'label': 'countriesandterritories', 'links': {'code_list': {}, 'options': {}, 'version': {}}, 'href': 'https://api.beta.ons.gov.uk/v1/code-lists/countries-and-territories', 'id': 'countries-and-territories', 'name': 'countriesandterritories'}, {'label': 'direction', 'links': {'code_list': {}, 'options': {}, 'version': {}}, 'href': 'https://api.beta.ons.gov.uk/v1/code-lists/trade-direction', 'id': 'trade-direction', 'name': 'direction'}], 'downloads': {'csv': {'href': 'https://download.ons.gov.uk/downloads/datasets/trade/editions/time-series/versions/59.csv', 'size': '563184513'}, 'csvw': {'href': 'https://download.ons.gov.uk/downloads/datasets/trade/editions/time-series/versions/59.csv-metadata.json', 'size': '1747'}}, 'edition': 'time-series', 'id': '5da21db7-ed9e-40e1-b4a1-c2415abfa087', 'last_updated': '2025-08-15T11:14:09.194Z', 'latest_changes': [], 'links': {'dataset': {'href': 'https://api.beta.ons.gov.uk/v1/datasets/trade', 'id': 'trade'}, 'dimensions': {}, 'edition': {'href': 'https://api.beta.ons.gov.uk/v1/datasets/trade/editions/time-series', 'id': 'time-series'}, 'self': {'href': 'https://api.beta.ons.gov.uk/v1/datasets/trade/editions/time-series/versions/59'}}, 'release_date': '2025-08-15T00:00:00.000Z', 'state': 'published', 'usage_notes': [], 'version': 59, 'type': 'v4'}\n"
     ]
    }
   ],
   "source": [
    "trade = next(filter(lambda d: d.get(\"id\") == \"trade\", datasets), None);\n",
    "latestTradeDatasetLink = trade.get('links').get('latest_version').get('href');\n",
    "tradeDatasetResponse = requests.get(latestTradeDatasetLink);\n",
    "\n",
    "print(tradeDatasetResponse.json());"
   ]
  },
  {
   "cell_type": "code",
   "execution_count": 8,
   "id": "250c52a2-de87-4191-a65d-b94c69ed6696",
   "metadata": {},
   "outputs": [],
   "source": [
    "tradeDatasetLink = tradeDatasetResponse.json().get(\"downloads\").get(\"csv\").get(\"href\")\n",
    "tradeDataset = requests.get(tradeDatasetLink)"
   ]
  },
  {
   "cell_type": "code",
   "execution_count": 9,
   "id": "fc7b9664-521b-4846-83a3-826ccd3b5ed4",
   "metadata": {},
   "outputs": [
    {
     "data": {
      "text/html": [
       "<div>\n",
       "<style scoped>\n",
       "    .dataframe tbody tr th:only-of-type {\n",
       "        vertical-align: middle;\n",
       "    }\n",
       "\n",
       "    .dataframe tbody tr th {\n",
       "        vertical-align: top;\n",
       "    }\n",
       "\n",
       "    .dataframe thead th {\n",
       "        text-align: right;\n",
       "    }\n",
       "</style>\n",
       "<table border=\"1\" class=\"dataframe\">\n",
       "  <thead>\n",
       "    <tr style=\"text-align: right;\">\n",
       "      <th></th>\n",
       "      <th>v4_0</th>\n",
       "      <th>mmm-yy</th>\n",
       "      <th>Time</th>\n",
       "      <th>uk-only</th>\n",
       "      <th>Geography</th>\n",
       "      <th>sitc</th>\n",
       "      <th>StandardIndustrialTradeClassification</th>\n",
       "      <th>countries-and-territories</th>\n",
       "      <th>CountriesAndTerritories</th>\n",
       "      <th>trade-direction</th>\n",
       "      <th>Direction</th>\n",
       "    </tr>\n",
       "  </thead>\n",
       "  <tbody>\n",
       "    <tr>\n",
       "      <th>0</th>\n",
       "      <td>3237.00</td>\n",
       "      <td>Jan-18</td>\n",
       "      <td>Jan-18</td>\n",
       "      <td>K02000001</td>\n",
       "      <td>United Kingdom</td>\n",
       "      <td>0</td>\n",
       "      <td>0: Food &amp; live animals</td>\n",
       "      <td>W1</td>\n",
       "      <td>W1 - Whole world</td>\n",
       "      <td>IM</td>\n",
       "      <td>Imports</td>\n",
       "    </tr>\n",
       "    <tr>\n",
       "      <th>1</th>\n",
       "      <td>312.00</td>\n",
       "      <td>Jan-18</td>\n",
       "      <td>Jan-18</td>\n",
       "      <td>K02000001</td>\n",
       "      <td>United Kingdom</td>\n",
       "      <td>07</td>\n",
       "      <td>07: Coffee, tea, cocoa etc</td>\n",
       "      <td>W1</td>\n",
       "      <td>W1 - Whole world</td>\n",
       "      <td>IM</td>\n",
       "      <td>Imports</td>\n",
       "    </tr>\n",
       "    <tr>\n",
       "      <th>2</th>\n",
       "      <td>175.00</td>\n",
       "      <td>Jan-18</td>\n",
       "      <td>Jan-18</td>\n",
       "      <td>K02000001</td>\n",
       "      <td>United Kingdom</td>\n",
       "      <td>08</td>\n",
       "      <td>08: Animal feeding stuffs</td>\n",
       "      <td>W1</td>\n",
       "      <td>W1 - Whole world</td>\n",
       "      <td>IM</td>\n",
       "      <td>Imports</td>\n",
       "    </tr>\n",
       "    <tr>\n",
       "      <th>3</th>\n",
       "      <td>865.00</td>\n",
       "      <td>Jan-18</td>\n",
       "      <td>Jan-18</td>\n",
       "      <td>K02000001</td>\n",
       "      <td>United Kingdom</td>\n",
       "      <td>2</td>\n",
       "      <td>2: Crude materials</td>\n",
       "      <td>W1</td>\n",
       "      <td>W1 - Whole world</td>\n",
       "      <td>IM</td>\n",
       "      <td>Imports</td>\n",
       "    </tr>\n",
       "    <tr>\n",
       "      <th>4</th>\n",
       "      <td>2.00</td>\n",
       "      <td>Jan-18</td>\n",
       "      <td>Jan-18</td>\n",
       "      <td>K02000001</td>\n",
       "      <td>United Kingdom</td>\n",
       "      <td>21</td>\n",
       "      <td>21: Hides, skins &amp; furskins</td>\n",
       "      <td>W1</td>\n",
       "      <td>W1 - Whole world</td>\n",
       "      <td>IM</td>\n",
       "      <td>Imports</td>\n",
       "    </tr>\n",
       "    <tr>\n",
       "      <th>...</th>\n",
       "      <td>...</td>\n",
       "      <td>...</td>\n",
       "      <td>...</td>\n",
       "      <td>...</td>\n",
       "      <td>...</td>\n",
       "      <td>...</td>\n",
       "      <td>...</td>\n",
       "      <td>...</td>\n",
       "      <td>...</td>\n",
       "      <td>...</td>\n",
       "      <td>...</td>\n",
       "    </tr>\n",
       "    <tr>\n",
       "      <th>5291455</th>\n",
       "      <td>0.30</td>\n",
       "      <td>Jun-25</td>\n",
       "      <td>Jun-25</td>\n",
       "      <td>K02000001</td>\n",
       "      <td>United Kingdom</td>\n",
       "      <td>8</td>\n",
       "      <td>8: Miscellaneous manufactures</td>\n",
       "      <td>ZW</td>\n",
       "      <td>ZW - Zimbabwe</td>\n",
       "      <td>EX</td>\n",
       "      <td>Exports</td>\n",
       "    </tr>\n",
       "    <tr>\n",
       "      <th>5291456</th>\n",
       "      <td>0.00</td>\n",
       "      <td>Jun-25</td>\n",
       "      <td>Jun-25</td>\n",
       "      <td>K02000001</td>\n",
       "      <td>United Kingdom</td>\n",
       "      <td>83</td>\n",
       "      <td>83: Travel goods, handbags etc</td>\n",
       "      <td>ZW</td>\n",
       "      <td>ZW - Zimbabwe</td>\n",
       "      <td>EX</td>\n",
       "      <td>Exports</td>\n",
       "    </tr>\n",
       "    <tr>\n",
       "      <th>5291457</th>\n",
       "      <td>0.41</td>\n",
       "      <td>Jun-25</td>\n",
       "      <td>Jun-25</td>\n",
       "      <td>K02000001</td>\n",
       "      <td>United Kingdom</td>\n",
       "      <td>7MI</td>\n",
       "      <td>7MI: Mechanical machinery (intermediate)</td>\n",
       "      <td>ZW</td>\n",
       "      <td>ZW - Zimbabwe</td>\n",
       "      <td>EX</td>\n",
       "      <td>Exports</td>\n",
       "    </tr>\n",
       "    <tr>\n",
       "      <th>5291458</th>\n",
       "      <td>0.00</td>\n",
       "      <td>Jun-25</td>\n",
       "      <td>Jun-25</td>\n",
       "      <td>K02000001</td>\n",
       "      <td>United Kingdom</td>\n",
       "      <td>85</td>\n",
       "      <td>85: Footwear</td>\n",
       "      <td>ZW</td>\n",
       "      <td>ZW - Zimbabwe</td>\n",
       "      <td>EX</td>\n",
       "      <td>Exports</td>\n",
       "    </tr>\n",
       "    <tr>\n",
       "      <th>5291459</th>\n",
       "      <td>0.00</td>\n",
       "      <td>Jun-25</td>\n",
       "      <td>Jun-25</td>\n",
       "      <td>K02000001</td>\n",
       "      <td>United Kingdom</td>\n",
       "      <td>89K</td>\n",
       "      <td>89K: Other manufactures (capital)</td>\n",
       "      <td>ZW</td>\n",
       "      <td>ZW - Zimbabwe</td>\n",
       "      <td>EX</td>\n",
       "      <td>Exports</td>\n",
       "    </tr>\n",
       "  </tbody>\n",
       "</table>\n",
       "<p>5291460 rows × 11 columns</p>\n",
       "</div>"
      ],
      "text/plain": [
       "            v4_0  mmm-yy    Time    uk-only       Geography sitc  \\\n",
       "0        3237.00  Jan-18  Jan-18  K02000001  United Kingdom    0   \n",
       "1         312.00  Jan-18  Jan-18  K02000001  United Kingdom   07   \n",
       "2         175.00  Jan-18  Jan-18  K02000001  United Kingdom   08   \n",
       "3         865.00  Jan-18  Jan-18  K02000001  United Kingdom    2   \n",
       "4           2.00  Jan-18  Jan-18  K02000001  United Kingdom   21   \n",
       "...          ...     ...     ...        ...             ...  ...   \n",
       "5291455     0.30  Jun-25  Jun-25  K02000001  United Kingdom    8   \n",
       "5291456     0.00  Jun-25  Jun-25  K02000001  United Kingdom   83   \n",
       "5291457     0.41  Jun-25  Jun-25  K02000001  United Kingdom  7MI   \n",
       "5291458     0.00  Jun-25  Jun-25  K02000001  United Kingdom   85   \n",
       "5291459     0.00  Jun-25  Jun-25  K02000001  United Kingdom  89K   \n",
       "\n",
       "            StandardIndustrialTradeClassification countries-and-territories  \\\n",
       "0                          0: Food & live animals                        W1   \n",
       "1                      07: Coffee, tea, cocoa etc                        W1   \n",
       "2                       08: Animal feeding stuffs                        W1   \n",
       "3                              2: Crude materials                        W1   \n",
       "4                     21: Hides, skins & furskins                        W1   \n",
       "...                                           ...                       ...   \n",
       "5291455             8: Miscellaneous manufactures                        ZW   \n",
       "5291456            83: Travel goods, handbags etc                        ZW   \n",
       "5291457  7MI: Mechanical machinery (intermediate)                        ZW   \n",
       "5291458                              85: Footwear                        ZW   \n",
       "5291459         89K: Other manufactures (capital)                        ZW   \n",
       "\n",
       "        CountriesAndTerritories trade-direction Direction  \n",
       "0              W1 - Whole world              IM   Imports  \n",
       "1              W1 - Whole world              IM   Imports  \n",
       "2              W1 - Whole world              IM   Imports  \n",
       "3              W1 - Whole world              IM   Imports  \n",
       "4              W1 - Whole world              IM   Imports  \n",
       "...                         ...             ...       ...  \n",
       "5291455           ZW - Zimbabwe              EX   Exports  \n",
       "5291456           ZW - Zimbabwe              EX   Exports  \n",
       "5291457           ZW - Zimbabwe              EX   Exports  \n",
       "5291458           ZW - Zimbabwe              EX   Exports  \n",
       "5291459           ZW - Zimbabwe              EX   Exports  \n",
       "\n",
       "[5291460 rows x 11 columns]"
      ]
     },
     "execution_count": 9,
     "metadata": {},
     "output_type": "execute_result"
    }
   ],
   "source": [
    "pd.read_csv(BytesIO(tradeDataset.content))"
   ]
  },
  {
   "cell_type": "markdown",
   "id": "3c56516e-9db9-45df-bf0b-03f9fbef2d22",
   "metadata": {},
   "source": [
    "# Dataset filtering\n",
    "Need to first create a filter then query it. The "
   ]
  },
  {
   "cell_type": "code",
   "execution_count": 24,
   "id": "bc18d067-316c-4734-b974-63a640d8dad3",
   "metadata": {},
   "outputs": [
    {
     "name": "stdout",
     "output_type": "stream",
     "text": [
      "<Response [500]>\n"
     ]
    }
   ],
   "source": [
    "datasetFilterUrl = f'https://api.beta.ons.gov.uk/v1/filters';\n",
    "filterPayload = {\n",
    "        \"dataset\": {\n",
    "            \"id\": \"trade\",\n",
    "            \"edition\": \"time-series\", \n",
    "            \"version\": \"59\"\n",
    "        },\n",
    "        \"dimensions\": [\n",
    "            {\n",
    "                \"name\": \"time\",\n",
    "                \"options\": [\"2023-01\", \"2023-02\", \"2023-03\"]\n",
    "            }\n",
    "        ]\n",
    "        \n",
    "    };\n",
    "\n",
    "response = requests.post(datasetFilterUrl, json=filterPayload)\n",
    "print(response)"
   ]
  },
  {
   "cell_type": "code",
   "execution_count": 16,
   "id": "bdc48a61-b741-4edb-8285-d380ec267daa",
   "metadata": {},
   "outputs": [
    {
     "name": "stdout",
     "output_type": "stream",
     "text": [
      "<Response [404]>\n"
     ]
    }
   ],
   "source": []
  }
 ],
 "metadata": {
  "kernelspec": {
   "display_name": "Python 3 (ipykernel)",
   "language": "python",
   "name": "python3"
  },
  "language_info": {
   "codemirror_mode": {
    "name": "ipython",
    "version": 3
   },
   "file_extension": ".py",
   "mimetype": "text/x-python",
   "name": "python",
   "nbconvert_exporter": "python",
   "pygments_lexer": "ipython3",
   "version": "3.13.6"
  }
 },
 "nbformat": 4,
 "nbformat_minor": 5
}
